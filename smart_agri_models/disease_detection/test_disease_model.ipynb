{
  "nbformat": 4,
  "nbformat_minor": 0,
  "metadata": {
    "colab": {
      "provenance": []
    },
    "kernelspec": {
      "name": "python3",
      "display_name": "Python 3"
    },
    "language_info": {
      "name": "python"
    }
  },
  "cells": [
    {
      "cell_type": "code",
      "execution_count": null,
      "metadata": {
        "id": "lk-WVREM5wTm"
      },
      "outputs": [],
      "source": [
        "import torch, json\n",
        "from PIL import Image\n",
        "from torchvision import transforms, models"
      ]
    },
    {
      "cell_type": "code",
      "source": [
        "with open(\"class_names.json\") as f:\n",
        "    class_names = json.load(f)\n",
        "\n",
        "num_classes = len(class_names)\n",
        "\n",
        "map_location=torch.device('cpu')\n",
        "model = models.mobilenet_v2(pretrained=False)\n",
        "model.classifier[1] = torch.nn.Linear(model.last_channel, num_classes)\n",
        "model.load_state_dict(torch.load(\"mobilenet_plant_weights.pt\", map_location=map_location))\n",
        "model.eval()\n",
        "device = torch.device(\"cuda\" if torch.cuda.is_available() else \"cpu\")\n",
        "model.to(device)\n",
        "\n",
        "# 2. Define preprocessing transforms\n",
        "preprocess = transforms.Compose([\n",
        "    transforms.Resize((224, 224)),\n",
        "    transforms.RandomHorizontalFlip(),\n",
        "    transforms.ToTensor(),\n",
        "    transforms.Normalize([0.485, 0.456, 0.406],\n",
        "                         [0.229, 0.224, 0.225])\n",
        "])"
      ],
      "metadata": {
        "colab": {
          "base_uri": "https://localhost:8080/"
        },
        "id": "bDkZv0Kn5-j3",
        "outputId": "a4a3b6f5-72e3-44f2-cabd-ec5d51ac2b21"
      },
      "execution_count": null,
      "outputs": [
        {
          "output_type": "stream",
          "name": "stderr",
          "text": [
            "/usr/local/lib/python3.11/dist-packages/torchvision/models/_utils.py:208: UserWarning: The parameter 'pretrained' is deprecated since 0.13 and may be removed in the future, please use 'weights' instead.\n",
            "  warnings.warn(\n",
            "/usr/local/lib/python3.11/dist-packages/torchvision/models/_utils.py:223: UserWarning: Arguments other than a weight enum or `None` for 'weights' are deprecated since 0.13 and may be removed in the future. The current behavior is equivalent to passing `weights=None`.\n",
            "  warnings.warn(msg)\n"
          ]
        }
      ]
    },
    {
      "cell_type": "code",
      "source": [
        "def predict(image_path):\n",
        "    img = Image.open(image_path).convert(\"RGB\")\n",
        "    input_tensor = preprocess(img).unsqueeze(0).to(device)\n",
        "    with torch.no_grad():\n",
        "        logits = model(input_tensor)\n",
        "        pred = logits.argmax(1).item()\n",
        "    return class_names[pred]\n",
        "\n",
        "print(\"Predicted:\", predict(\"/content/potato_late\"))"
      ],
      "metadata": {
        "colab": {
          "base_uri": "https://localhost:8080/"
        },
        "id": "-te8cSGk6Czv",
        "outputId": "a405a1cd-e904-4305-cd61-0f15da3484dd"
      },
      "execution_count": null,
      "outputs": [
        {
          "output_type": "stream",
          "name": "stdout",
          "text": [
            "Predicted: Cherry_(including_sour)___healthy\n"
          ]
        }
      ]
    },
    {
      "cell_type": "code",
      "source": [
        "img = preprocess(Image.open(\"/content/c5617a77-0c64-404d-a25b-60338a8ec00f.jpg\")).unsqueeze(0).to(device)\n",
        "pred = model(img).argmax(1).item()\n",
        "print(\"Prediction:\", class_names[pred])"
      ],
      "metadata": {
        "colab": {
          "base_uri": "https://localhost:8080/"
        },
        "id": "StIGKGIi7EJt",
        "outputId": "516bcefe-da6a-491d-8feb-d9ca756220da"
      },
      "execution_count": 21,
      "outputs": [
        {
          "output_type": "stream",
          "name": "stdout",
          "text": [
            "Prediction: Cherry_(including_sour)___healthy\n"
          ]
        }
      ]
    },
    {
      "cell_type": "code",
      "source": [],
      "metadata": {
        "id": "y2DvQoyX91iN"
      },
      "execution_count": null,
      "outputs": []
    }
  ]
}